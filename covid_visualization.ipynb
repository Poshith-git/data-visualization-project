{
 "cells": [
  {
   "cell_type": "code",
   "execution_count": null,
   "id": "8a7fccb5-5a89-4058-af67-a42a08ba0b18",
   "metadata": {},
   "outputs": [],
   "source": [
    "import pandas as pd\n",
    "import matplotlib.pyplot as plt\n",
    "import numpy as np  "
   ]
  },
  {
   "cell_type": "code",
   "execution_count": 11,
   "id": "f4b9d505-c5b4-46a8-a086-968720fa64b1",
   "metadata": {},
   "outputs": [
    {
     "name": "stdout",
     "output_type": "stream",
     "text": [
      "   Sno        Date     Time State/UnionTerritory ConfirmedIndianNational  \\\n",
      "0    1  2020-01-30  6:00 PM               Kerala                       1   \n",
      "1    2  2020-01-31  6:00 PM               Kerala                       1   \n",
      "2    3  2020-02-01  6:00 PM               Kerala                       2   \n",
      "3    4  2020-02-02  6:00 PM               Kerala                       3   \n",
      "4    5  2020-02-03  6:00 PM               Kerala                       3   \n",
      "\n",
      "  ConfirmedForeignNational  Cured  Deaths  Confirmed  \n",
      "0                        0      0       0          1  \n",
      "1                        0      0       0          1  \n",
      "2                        0      0       0          2  \n",
      "3                        0      0       0          3  \n",
      "4                        0      0       0          3  \n",
      "<class 'pandas.core.frame.DataFrame'>\n",
      "RangeIndex: 18110 entries, 0 to 18109\n",
      "Data columns (total 9 columns):\n",
      " #   Column                    Non-Null Count  Dtype \n",
      "---  ------                    --------------  ----- \n",
      " 0   Sno                       18110 non-null  int64 \n",
      " 1   Date                      18110 non-null  object\n",
      " 2   Time                      18110 non-null  object\n",
      " 3   State/UnionTerritory      18110 non-null  object\n",
      " 4   ConfirmedIndianNational   18110 non-null  object\n",
      " 5   ConfirmedForeignNational  18110 non-null  object\n",
      " 6   Cured                     18110 non-null  int64 \n",
      " 7   Deaths                    18110 non-null  int64 \n",
      " 8   Confirmed                 18110 non-null  int64 \n",
      "dtypes: int64(4), object(5)\n",
      "memory usage: 1.2+ MB\n",
      "None\n"
     ]
    }
   ],
   "source": [
    "# Load the dataset (replace with your file path)\n",
    "df = pd.read_csv(\"covid_19_india.csv\")\n",
    "\n",
    "# Preview the first 5 rows\n",
    "print(df.head())\n",
    "\n",
    "# Check column names and data types\n",
    "print(df.info())"
   ]
  },
  {
   "cell_type": "code",
   "execution_count": 12,
   "id": "1b577ae6-560b-410d-9d32-4b4a2a7e8e1c",
   "metadata": {},
   "outputs": [
    {
     "name": "stdout",
     "output_type": "stream",
     "text": [
      "        Date  Confirmed\n",
      "0 2020-01-30          1\n",
      "1 2020-01-31          1\n",
      "2 2020-02-01          2\n",
      "3 2020-02-02          3\n",
      "4 2020-02-03          3\n"
     ]
    }
   ],
   "source": [
    "# Convert 'Date' column to datetime\n",
    "df['Date'] = pd.to_datetime(df['Date'], format='%Y-%m-%d')\n",
    "\n",
    "# Group by date to get national totals for confirmed cases\n",
    "national_df = df.groupby('Date')['Confirmed'].sum().reset_index()\n",
    "\n",
    "# Sort by date for chronological order\n",
    "national_df = national_df.sort_values('Date')\n",
    "\n",
    "# Handle missing values (if any)\n",
    "national_df.dropna(inplace=True)\n",
    "\n",
    "# Preview the aggregated data\n",
    "print(national_df.head())"
   ]
  },
  {
   "cell_type": "code",
   "execution_count": null,
   "id": "1720719d-6f95-40b0-a83f-1118fdb070d0",
   "metadata": {},
   "outputs": [],
   "source": [
    "# Create a line plot\n",
    "plt.figure(figsize=(10, 6))  # Set plot size (width, height)\n",
    "plt.plot(national_df['Date'], national_df['Confirmed'], label='Confirmed Cases', color='blue')\n",
    "\n",
    "# Add labels and title\n",
    "plt.xlabel('Date')\n",
    "plt.ylabel('Number of Confirmed Cases')\n",
    "plt.title('COVID-19 Confirmed Cases in India Over Time')\n",
    "\n",
    "# Add legend and grid\n",
    "plt.legend()\n",
    "plt.grid(True)\n",
    "\n",
    "# Rotate x-axis labels for readability\n",
    "plt.xticks(rotation=45)\n",
    "\n",
    "# Adjust layout to prevent label cutoff\n",
    "plt.tight_layout()\n",
    "\n",
    "# Save the plot as an image\n",
    "plt.savefig('plots/cases_over_time.png')\n",
    "\n",
    "# Display the plot\n",
    "plt.show()"
   ]
  },
  {
   "cell_type": "code",
   "execution_count": 14,
   "id": "9cef5c4a-0aa9-48cc-ba29-b41c17f9c5d9",
   "metadata": {},
   "outputs": [
    {
     "name": "stdout",
     "output_type": "stream",
     "text": [
      "Mean Confirmed Cases: 9735140.51\n",
      "Maximum Confirmed Cases: 32036511\n"
     ]
    }
   ],
   "source": [
    "# Calculate basic statistics using NumPy\n",
    "mean_cases = np.mean(national_df['Confirmed'])\n",
    "max_cases = np.max(national_df['Confirmed'])\n",
    "\n",
    "# Print statistics\n",
    "print(f\"Mean Confirmed Cases: {mean_cases:.2f}\")\n",
    "print(f\"Maximum Confirmed Cases: {max_cases}\")"
   ]
  }
 ],
 "metadata": {
  "kernelspec": {
   "display_name": "Python 3 (ipykernel)",
   "language": "python",
   "name": "python3"
  },
  "language_info": {
   "codemirror_mode": {
    "name": "ipython",
    "version": 3
   },
   "file_extension": ".py",
   "mimetype": "text/x-python",
   "name": "python",
   "nbconvert_exporter": "python",
   "pygments_lexer": "ipython3",
   "version": "3.13.5"
  }
 },
 "nbformat": 4,
 "nbformat_minor": 5
}
